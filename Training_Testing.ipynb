{
 "cells": [
  {
   "cell_type": "code",
   "execution_count": 1,
   "metadata": {},
   "outputs": [],
   "source": [
    "import torch\n",
    "import torch.nn as nn\n",
    "from torch.nn import functional as F\n",
    "from Trainer import Trainer\n",
    "\n",
    "from WaveDataset import WaveDataset\n",
    "\n",
    "from torch.utils.data.dataloader import DataLoader"
   ]
  },
  {
   "cell_type": "code",
   "execution_count": 2,
   "metadata": {},
   "outputs": [
    {
     "name": "stdout",
     "output_type": "stream",
     "text": [
      "Initialized dataset with 237648 examples\n",
      "device :  cuda:3\n"
     ]
    }
   ],
   "source": [
    "from Trainer import Trainer\n",
    "from WaveModel import WaveModel\n",
    "# block_size = 512\n",
    "\n",
    "mydataset = WaveDataset('2sources_30plusmics_240k',max_length=512,max_mics=10)\n",
    "# automatically take correct number of mic for model\n",
    "max_length,mic_num,source_num = mydataset.get_config()\n",
    "\n",
    "model = WaveModel(mic_num=mic_num,source_num=source_num,\n",
    "tot_timesteps=max_length,\n",
    "n_embd=160,n_hidden=512,\n",
    "n_head=8,n_layer=8,dropout=0.1)\n",
    "device = 'cuda:3'\n",
    "m=model.to(device)\n",
    "train=Trainer(model,mydataset,run_name = '240k_2source_10mics_160embd_512hidden_8head_8layer',\n",
    "              batch_size=128,device=device)\n",
    "train.to(device)\n",
    "\n",
    "print('device : ', device)"
   ]
  },
  {
   "cell_type": "code",
   "execution_count": 6,
   "metadata": {},
   "outputs": [
    {
     "name": "stdout",
     "output_type": "stream",
     "text": [
      "step 0: train loss 0.0161, val loss 0.0162\n"
     ]
    },
    {
     "name": "stderr",
     "output_type": "stream",
     "text": [
      "100%|██████████| 1671/1671 [15:05<00:00,  1.84it/s]\n"
     ]
    },
    {
     "name": "stdout",
     "output_type": "stream",
     "text": [
      "Save successful\n"
     ]
    },
    {
     "name": "stderr",
     "output_type": "stream",
     "text": [
      "100%|██████████| 1671/1671 [15:04<00:00,  1.85it/s]\n"
     ]
    },
    {
     "name": "stdout",
     "output_type": "stream",
     "text": [
      "step 2: train loss 0.0128, val loss 0.0130\n"
     ]
    },
    {
     "name": "stderr",
     "output_type": "stream",
     "text": [
      "100%|██████████| 1671/1671 [15:01<00:00,  1.85it/s]\n"
     ]
    },
    {
     "name": "stdout",
     "output_type": "stream",
     "text": [
      "Save successful\n"
     ]
    },
    {
     "name": "stderr",
     "output_type": "stream",
     "text": [
      "100%|██████████| 1671/1671 [14:58<00:00,  1.86it/s]\n"
     ]
    },
    {
     "name": "stdout",
     "output_type": "stream",
     "text": [
      "step 4: train loss 0.0120, val loss 0.0125\n"
     ]
    },
    {
     "name": "stderr",
     "output_type": "stream",
     "text": [
      "100%|██████████| 1671/1671 [14:59<00:00,  1.86it/s]\n"
     ]
    },
    {
     "name": "stdout",
     "output_type": "stream",
     "text": [
      "Save successful\n"
     ]
    },
    {
     "name": "stderr",
     "output_type": "stream",
     "text": [
      "100%|██████████| 1671/1671 [14:57<00:00,  1.86it/s]\n"
     ]
    },
    {
     "name": "stdout",
     "output_type": "stream",
     "text": [
      "step 6: train loss 0.0116, val loss 0.0121\n"
     ]
    },
    {
     "name": "stderr",
     "output_type": "stream",
     "text": [
      "100%|██████████| 1671/1671 [14:57<00:00,  1.86it/s]\n"
     ]
    },
    {
     "name": "stdout",
     "output_type": "stream",
     "text": [
      "Save successful\n"
     ]
    },
    {
     "name": "stderr",
     "output_type": "stream",
     "text": [
      "100%|██████████| 1671/1671 [15:00<00:00,  1.85it/s]\n"
     ]
    },
    {
     "name": "stdout",
     "output_type": "stream",
     "text": [
      "step 8: train loss 0.0115, val loss 0.0120\n"
     ]
    },
    {
     "name": "stderr",
     "output_type": "stream",
     "text": [
      "100%|██████████| 1671/1671 [15:01<00:00,  1.85it/s]\n"
     ]
    },
    {
     "name": "stdout",
     "output_type": "stream",
     "text": [
      "Save successful\n"
     ]
    },
    {
     "name": "stderr",
     "output_type": "stream",
     "text": [
      "100%|██████████| 1671/1671 [15:01<00:00,  1.85it/s]\n"
     ]
    }
   ],
   "source": [
    "train.model.train()\n",
    "train.optimization(epochs=200,eval_interval=2,lr=1e-4,loadingbar=False)"
   ]
  },
  {
   "cell_type": "code",
   "execution_count": 7,
   "metadata": {},
   "outputs": [],
   "source": [
    "# train.save_weights()"
   ]
  },
  {
   "cell_type": "code",
   "execution_count": 5,
   "metadata": {},
   "outputs": [
    {
     "name": "stdout",
     "output_type": "stream",
     "text": [
      "Load successful\n"
     ]
    }
   ],
   "source": [
    "# For loading weights\n",
    "train.load_weights('SaveWeights/240k_2source_10mics_160embd_512hidden_8head_8layer.pt')"
   ]
  },
  {
   "cell_type": "code",
   "execution_count": null,
   "metadata": {},
   "outputs": [],
   "source": [
    "# Visualize microphone recordings.\n",
    "num=3\n",
    "recordings = mydataset[num][0] # (3,M,T)\n",
    "print(recordings.shape)\n",
    "import matplotlib.pyplot as plt\n",
    "fig, ax = plt.subplots()\n",
    "for i in range(3):\n",
    "    mic_recording = recordings[0,i,:].numpy()\n",
    "\n",
    "    x = range(len(mic_recording))\n",
    "    ax.plot(x, mic_recording)\n",
    "ax.set(xlabel='time (s)', ylabel='Values', title='Observations at 3 micphones')\n",
    "fig, ax = plt.subplots()\n",
    "\n",
    "plt.scatter(recordings[1,:,0],recordings[2,:,0])\n",
    "plt.xlim([0, 1])  # setting x limit\n",
    "plt.ylim([0, 1])  # setting y limit\n",
    "\n",
    "ax.set(xlabel='x', ylabel='y', title='Scatterplot of micphones')\n",
    "ax.grid()\n",
    "plt.show()"
   ]
  },
  {
   "cell_type": "code",
   "execution_count": null,
   "metadata": {},
   "outputs": [],
   "source": []
  }
 ],
 "metadata": {
  "kernelspec": {
   "display_name": "deeplearning",
   "language": "python",
   "name": "python3"
  },
  "language_info": {
   "codemirror_mode": {
    "name": "ipython",
    "version": 3
   },
   "file_extension": ".py",
   "mimetype": "text/x-python",
   "name": "python",
   "nbconvert_exporter": "python",
   "pygments_lexer": "ipython3",
   "version": "3.9.16"
  },
  "orig_nbformat": 4
 },
 "nbformat": 4,
 "nbformat_minor": 2
}
